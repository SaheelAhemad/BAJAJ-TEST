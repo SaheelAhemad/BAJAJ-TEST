{
 "cells": [
  {
   "cell_type": "code",
   "execution_count": 60,
   "metadata": {},
   "outputs": [],
   "source": [
    "import json\n",
    "from datetime import datetime\n",
    "from scipy.stats import pearsonr\n",
    "\n",
    "with open('DataEngineeringQ2.json', 'r') as file:\n",
    "    data = json.load(file)\n",
    "\n",
    "def calculate_age(birth_date):\n",
    "    \n",
    "    if not birth_date:\n",
    "        return None\n",
    "    birth_date = datetime.strptime(birth_date, \"%Y-%m-%dT%H:%M:%S.%fZ\")\n",
    "    today = datetime.now()\n",
    "    return today.year - birth_date.year - ((today.month, today.day) < (birth_date.month, birth_date.day))"
   ]
  },
  {
   "cell_type": "code",
   "execution_count": 61,
   "metadata": {},
   "outputs": [
    {
     "data": {
      "text/plain": [
       "18"
      ]
     },
     "execution_count": 61,
     "metadata": {},
     "output_type": "execute_result"
    }
   ],
   "source": [
    "def is_valid_mobile(phone_number):\n",
    "        \n",
    "    if phone_number.startswith(\"+91\"):\n",
    "        phone_number = phone_number[3:]\n",
    "    elif phone_number.startswith(\"91\"):\n",
    "        phone_number = phone_number[2:]\n",
    "\n",
    "    if len(phone_number) == 10 and phone_number.isdigit():\n",
    "        num = int(phone_number)\n",
    "        if 6000000000 <= num <= 9999999999:\n",
    "            return True\n",
    "    return False\n",
    "\n",
    "\n",
    "valid_mobile_count = 0\n",
    "\n",
    "for record in data:\n",
    "    phone_number = record.get(\"phoneNumber\", \"\")\n",
    "    if is_valid_mobile(phone_number):\n",
    "        valid_mobile_count += 1\n",
    "\n",
    "valid_mobile_count"
   ]
  },
  {
   "cell_type": "code",
   "execution_count": 62,
   "metadata": {},
   "outputs": [
    {
     "name": "stdout",
     "output_type": "stream",
     "text": [
      "-0.21\n"
     ]
    }
   ],
   "source": [
    "ages = []\n",
    "num_medicines = []\n",
    "\n",
    "for record in data:\n",
    "    birth_date = record.get(\"patientDetails\", {}).get(\"birthDate\")\n",
    "    age = calculate_age(birth_date)\n",
    "    if age is not None:\n",
    "        ages.append(age)\n",
    "        medicines = record.get(\"consultationData\", {}).get(\"medicines\", [])\n",
    "        num_medicines.append(len(medicines))\n",
    "\n",
    "if len(ages) > 1 and len(num_medicines) > 1:\n",
    "    correlation, _ = pearsonr(ages, num_medicines)\n",
    "    print(round(correlation, 2))\n",
    "else:\n",
    "    print(\"Insufficient data for correlation calculation.\")\n"
   ]
  },
  {
   "cell_type": "code",
   "execution_count": 63,
   "metadata": {},
   "outputs": [
    {
     "data": {
      "text/plain": [
       "{'firstName': 0.0,\n",
       " 'lastName': 70.96774193548387,\n",
       " 'birthDate': 32.25806451612903}"
      ]
     },
     "execution_count": 63,
     "metadata": {},
     "output_type": "execute_result"
    }
   ],
   "source": [
    "missing_counts = {\"firstName\": 0, \"lastName\": 0, \"birthDate\": 0}\n",
    "total_records = len(data)\n",
    "\n",
    "for record in data:\n",
    "    patient = record.get(\"patientDetails\", {})\n",
    "    if not patient.get(\"firstName\"):\n",
    "        missing_counts[\"firstName\"] += 1\n",
    "    if not patient.get(\"lastName\"):\n",
    "        missing_counts[\"lastName\"] += 1\n",
    "    if not patient.get(\"birthDate\"):\n",
    "        missing_counts[\"birthDate\"] += 1\n",
    "\n",
    "missing_percentages = {col: (count / total_records) * 100 for col, count in missing_counts.items()}\n",
    "missing_percentages\n"
   ]
  },
  {
   "cell_type": "code",
   "execution_count": 64,
   "metadata": {},
   "outputs": [
    {
     "data": {
      "text/plain": [
       "32.26"
      ]
     },
     "execution_count": 64,
     "metadata": {},
     "output_type": "execute_result"
    }
   ],
   "source": [
    "from collections import Counter\n",
    "\n",
    "gender_counts = Counter(record.get(\"patientDetails\", {}).get(\"gender\", \"\") for record in data)\n",
    "mode_gender = gender_counts.most_common(1)[0][0]\n",
    "\n",
    "imputed_female_count = sum(\n",
    "    1 for record in data if record.get(\"patientDetails\", {}).get(\"gender\", mode_gender) == \"F\"\n",
    ")\n",
    "female_percentage = (imputed_female_count / total_records) * 100\n",
    "\n",
    "round(female_percentage, 2)\n"
   ]
  },
  {
   "cell_type": "code",
   "execution_count": 65,
   "metadata": {},
   "outputs": [
    {
     "data": {
      "text/plain": [
       "21"
      ]
     },
     "execution_count": 65,
     "metadata": {},
     "output_type": "execute_result"
    }
   ],
   "source": [
    "age_groups = {\"Child\": 0, \"Teen\": 0, \"Adult\": 0, \"Senior\": 0}\n",
    "\n",
    "for record in data:\n",
    "    birth_date = record.get(\"patientDetails\", {}).get(\"birthDate\")\n",
    "    age = calculate_age(birth_date)\n",
    "    if age is not None:\n",
    "        if age <= 12:\n",
    "            age_groups[\"Child\"] += 1\n",
    "        elif age <= 19:\n",
    "            age_groups[\"Teen\"] += 1\n",
    "        elif age <= 59:\n",
    "            age_groups[\"Adult\"] += 1\n",
    "        else:\n",
    "            age_groups[\"Senior\"] += 1\n",
    "\n",
    "age_groups[\"Adult\"]\n"
   ]
  },
  {
   "cell_type": "code",
   "execution_count": 66,
   "metadata": {},
   "outputs": [
    {
     "data": {
      "text/plain": [
       "2.13"
      ]
     },
     "execution_count": 66,
     "metadata": {},
     "output_type": "execute_result"
    }
   ],
   "source": [
    "total_medicines = 0\n",
    "\n",
    "for record in data:\n",
    "    medicines = record.get(\"consultationData\", {}).get(\"medicines\", [])\n",
    "    total_medicines += len(medicines)\n",
    "\n",
    "average_medicines = total_medicines / total_records\n",
    "round(average_medicines, 2)\n"
   ]
  },
  {
   "cell_type": "code",
   "execution_count": 67,
   "metadata": {},
   "outputs": [
    {
     "data": {
      "text/plain": [
       "'C'"
      ]
     },
     "execution_count": 67,
     "metadata": {},
     "output_type": "execute_result"
    }
   ],
   "source": [
    "from collections import Counter\n",
    "\n",
    "medicine_counter = Counter(\n",
    "    med[\"medicineName\"]\n",
    "    for record in data\n",
    "    for med in record.get(\"consultationData\", {}).get(\"medicines\", [])\n",
    ")\n",
    "\n",
    "third_most_frequent_medicine = medicine_counter.most_common(3)[-1][0]\n",
    "third_most_frequent_medicine\n"
   ]
  },
  {
   "cell_type": "code",
   "execution_count": 68,
   "metadata": {},
   "outputs": [
    {
     "data": {
      "text/plain": [
       "(69.7, 30.3)"
      ]
     },
     "execution_count": 68,
     "metadata": {},
     "output_type": "execute_result"
    }
   ],
   "source": [
    "active_count = 0\n",
    "inactive_count = 0\n",
    "\n",
    "for record in data:\n",
    "    for med in record.get(\"consultationData\", {}).get(\"medicines\", []):\n",
    "        if med[\"isActive\"]:\n",
    "            active_count += 1\n",
    "        else:\n",
    "            inactive_count += 1\n",
    "\n",
    "total_medicines = active_count + inactive_count\n",
    "active_percentage = (active_count / total_medicines) * 100 if total_medicines else 0\n",
    "inactive_percentage = (inactive_count / total_medicines) * 100 if total_medicines else 0\n",
    "\n",
    "(round(active_percentage, 2), round(inactive_percentage, 2))\n"
   ]
  },
  {
   "cell_type": "code",
   "execution_count": 69,
   "metadata": {},
   "outputs": [
    {
     "data": {
      "text/plain": [
       "{'missing_percentages': {'firstName': 0.0,\n",
       "  'lastName': 70.97,\n",
       "  'birthDate': 32.26},\n",
       " 'female_percentage': 32.26,\n",
       " 'adult_count': 21,\n",
       " 'average_medicines': 2.13,\n",
       " 'third_most_frequent_medicine': 'C',\n",
       " 'medicine_distribution': (69.7, 30.3),\n",
       " 'valid_mobile_count': 18,\n",
       " 'pearson_correlation': np.float64(-0.21)}"
      ]
     },
     "execution_count": 69,
     "metadata": {},
     "output_type": "execute_result"
    }
   ],
   "source": [
    "results = {\n",
    "    \"missing_percentages\": {k: round(v, 2) for k, v in missing_percentages.items()},\n",
    "    \"female_percentage\": round(female_percentage, 2),\n",
    "    \"adult_count\": age_groups[\"Adult\"],\n",
    "    \"average_medicines\": round(average_medicines, 2),\n",
    "    \"third_most_frequent_medicine\": third_most_frequent_medicine,\n",
    "    \"medicine_distribution\": (round(active_percentage, 2), round(inactive_percentage, 2)),\n",
    "    \"valid_mobile_count\": valid_mobile_count,\n",
    "    \"pearson_correlation\": round(correlation, 2) if len(ages) > 1 and len(num_medicines) > 1 else \"Insufficient data\"\n",
    "}\n",
    "\n",
    "results\n"
   ]
  }
 ],
 "metadata": {
  "kernelspec": {
   "display_name": "Python 3",
   "language": "python",
   "name": "python3"
  },
  "language_info": {
   "codemirror_mode": {
    "name": "ipython",
    "version": 3
   },
   "file_extension": ".py",
   "mimetype": "text/x-python",
   "name": "python",
   "nbconvert_exporter": "python",
   "pygments_lexer": "ipython3",
   "version": "3.12.7"
  }
 },
 "nbformat": 4,
 "nbformat_minor": 2
}
